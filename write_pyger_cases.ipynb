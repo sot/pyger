{
 "cells": [
  {
   "cell_type": "code",
   "execution_count": 1,
   "metadata": {
    "collapsed": false
   },
   "outputs": [],
   "source": [
    "import pyger\n",
    "import numpy as np\n",
    "import matplotlib.pyplot as plt\n",
    "from Chandra.Time import DateTime\n",
    "import cPickle as pickle\n",
    "import numpy as np"
   ]
  },
  {
   "cell_type": "markdown",
   "metadata": {},
   "source": [
    "Note that the DH on and off options are both used automatically"
   ]
  },
  {
   "cell_type": "code",
   "execution_count": 12,
   "metadata": {
    "collapsed": false
   },
   "outputs": [],
   "source": [
    "def assemble_cases(options, n_sim, max_dwell_ksec, dwell_2_pitch_num, dates):\n",
    "\n",
    "    template = {'max_1dpamzt': '999',\n",
    "                'max_1deamzt': '999',\n",
    "                'max_1pdeaat': '999',\n",
    "                'max_aacccdpt': '999',\n",
    "                'max_pftank2t': '999',\n",
    "                'max_tcylaft6': '999',\n",
    "                'max_tephin': '999',\n",
    "                'max_4rt700t': '999',\n",
    "                'max_fptemp_11': '999'}\n",
    "\n",
    "    newcases = []\n",
    "    for date in dates:\n",
    "        for msid in options.keys():\n",
    "            lims = np.arange(options[msid]['startlim'], options[msid]['stoplim'] + options[msid]['limstep'], options[msid]['limstep'])\n",
    "            for lim in lims:\n",
    "                if options[msid]['sameccd'] == True:\n",
    "                    nccds = zip(options[msid]['nccd1'], options[msid]['nccd1'])\n",
    "                else:\n",
    "                    nccds = list(itertools.product(options[msid]['nccd1'], options[msid]['nccd2']))\n",
    "\n",
    "                if 'cool_pitch_min' in options[msid].keys():\n",
    "                    coolpitchmin = options[msid]['cool_pitch_min']\n",
    "                    coolpitchmax = options[msid]['cool_pitch_max']\n",
    "                else:\n",
    "                    coolpitchmin = None\n",
    "                    coolpitchmax = None\n",
    "                    \n",
    "                roll = options[msid.upper()]['roll'] \n",
    "\n",
    "                for nccd1, nccd2 in nccds:\n",
    "                    for dh in options[msid]['dh']:\n",
    "                        s = template.copy()\n",
    "                        s['msid'] = msid\n",
    "                        s['constraint_model'] = options[msid.upper()]['model']\n",
    "                        s['filename'] = 'pyger_single_msid_{}{}_{}_{}_{}ccd-{}ccd_DH-{}_roll-{}'.format(date[:4], date[-3:],\n",
    "                                                                                                        msid.lower(), lim,\n",
    "                                                                                                        nccd1, nccd2, dh, roll)\n",
    "#                         s['filename'] = 'pyger_single_msid_{}{}_{}_{}_{}ccd_DH-{}'.format(date[:4], date[-3:], msid.lower(), lim, nccd1, dh)\n",
    "                        s['max_' + msid.lower()] = str(lim)\n",
    "                        s['title'] = msid.upper() + ': ' + str(lim) + options[msid]['units'] + ' ' + date\n",
    "                        s['n_ccd_dwell1'] = str(nccd1)\n",
    "                        s['n_ccd_dwell2'] = str(nccd2)\n",
    "                        s['dh_heater'] = str(dh == 'ON')\n",
    "                        s['start'] = date\n",
    "                        s['n_sim'] = str(n_sim)\n",
    "                        s['max_dwell_ksec'] = max_dwell_ksec\n",
    "                        s['dwell_2_pitch_num'] = str(dwell_2_pitch_num)\n",
    "                        s['cool_pitch_min'] = coolpitchmin\n",
    "                        s['cool_pitch_max'] = coolpitchmax\n",
    "                        s['roll'] = roll                    \n",
    "                        newcases.append(s)\n",
    "\n",
    "    return newcases\n",
    "\n",
    "def write_cases(newcases, filename):\n",
    "    fid = open(filename, 'w')\n",
    "    \n",
    "    header = newcases[0].keys()\n",
    "    \n",
    "    # Write Header\n",
    "    for name in header[:-1]:\n",
    "        fid.write('{},'.format(name))\n",
    "    fid.write('{}\\n'.format(header[-1]))\n",
    "\n",
    "    # Write Cases\n",
    "    for case in newcases:\n",
    "        for name in header[:-1]:\n",
    "            fid.write('{},'.format(case[name]))\n",
    "        fid.write('{}\\n'.format(case[header[-1]]))\n",
    "    \n",
    "    fid.close()\n",
    "    \n",
    "    \n",
    "def chunks(listofstuff, n):\n",
    "    \"\"\"Yield successive n-sized chunks from l.\"\"\"\n",
    "    for i in xrange(0, len(listofstuff), n):\n",
    "        yield listofstuff[i:i+n]\n",
    "    \n",
    "    \n",
    "def factors(n):    \n",
    "    return set(reduce(list.__add__, \n",
    "                ([i, n//i] for i in range(1, int(n**0.5) + 1) if n % i == 0)))"
   ]
  },
  {
   "cell_type": "code",
   "execution_count": 5,
   "metadata": {
    "collapsed": false
   },
   "outputs": [],
   "source": [
    "#header = ('title', 'filename', 'start', 'max_tephin', 'max_tcylaft6', 'max_1pdeaat', \n",
    "#              'max_1dpamzt', 'max_pftank2t', 'max_aacccdpt', 'n_ccd_dwell1', 'n_ccd_dwell2', \n",
    "#              'n_sim', 'dwell_2_pitch_num', 'max_dwell_ksec', 'constraint_model', 'msid')\n",
    "    \n",
    "options = {'TCYLAFT6':{'units':'F', 'startlim':108, 'stoplim':120, 'limstep':1, 'nccd1':[4,], 'dh':['ON'], 'model':'tcylaft6', 'sameccd': True, 'roll': 0.0},\n",
    "           'PFTANK2T':{'units':'F', 'startlim':93, 'stoplim':97, 'limstep':1, 'nccd1':[4,], 'dh':['ON'], 'model':'tank', 'sameccd': True, 'roll': 0.0},\n",
    "           'AACCCDPT':{'units':'C', 'startlim':-15, 'stoplim':-5, 'limstep':1, 'nccd1':[4,], 'dh':['ON'], 'model':'aca', 'sameccd': True, 'roll': 0.0},\n",
    "           '4RT700T':{'units':'F', 'startlim':82, 'stoplim':90, 'limstep':1, 'nccd1':[4,], 'dh':['ON'], 'model':'fwdblkhd', 'sameccd': True, 'roll': 0.0},\n",
    "           '1PDEAAT':{'units':'C', 'startlim':52.5, 'stoplim':53, 'limstep':0.5, 'nccd1':[1, 3, 4, 5, 6], 'dh':['ON', 'OFF'], 'model':'psmc', 'sameccd': True, 'roll': 0.0},\n",
    "           '1DPAMZT':{'units':'C', 'startlim':35, 'stoplim':38, 'limstep':0.5, 'nccd1':[1, 3, 4, 5, 6], 'dh':['ON', 'OFF'], 'model':'dpa', 'sameccd': True, 'roll': 0.0},\n",
    "           '1DEAMZT':{'units':'C', 'startlim':35, 'stoplim':38, 'limstep':0.5, 'nccd1':[1, 3, 4, 5, 6], 'dh':['ON', 'OFF'], 'model':'dea', 'sameccd': True, 'roll': 0.0}}\n",
    "\n",
    "n_sim = 2000\n",
    "max_dwell_ksec = 700\n",
    "dwell_2_pitch_num = 200\n"
   ]
  },
  {
   "cell_type": "code",
   "execution_count": 6,
   "metadata": {
    "collapsed": false
   },
   "outputs": [],
   "source": [
    "dates = [year + ':' + day for day in ['001', '090'] for year in ['2016']]\n",
    "newcases = assemble_cases(options, n_sim, max_dwell_ksec, dwell_2_pitch_num, dates)\n",
    "write_cases(newcases, 'cases_2016_001_090.csv')\n",
    "   \n",
    "dates = [year + ':' + day for day in ['182', '274'] for year in ['2016']]\n",
    "newcases = assemble_cases(options, n_sim, max_dwell_ksec, dwell_2_pitch_num, dates)\n",
    "write_cases(newcases, 'cases_2016_182_274.csv')\n",
    "\n",
    "dates = [year + ':' + day for day in ['001', '090'] for year in ['2017']]\n",
    "newcases = assemble_cases(options, n_sim, max_dwell_ksec, dwell_2_pitch_num, dates)\n",
    "write_cases(newcases, 'cases_2017_001_090.csv')\n",
    "   \n",
    "dates = [year + ':' + day for day in ['182', '274'] for year in ['2017']]\n",
    "newcases = assemble_cases(options, n_sim, max_dwell_ksec, dwell_2_pitch_num, dates)\n",
    "write_cases(newcases, 'cases_2017_182_274.csv')\n",
    "\n",
    "dates = [year + ':' + day for day in ['001', '090'] for year in ['2018']]\n",
    "newcases = assemble_cases(options, n_sim, max_dwell_ksec, dwell_2_pitch_num, dates)\n",
    "write_cases(newcases, 'cases_2018_001_090.csv')\n",
    "   \n",
    "dates = [year + ':' + day for day in ['182', '274'] for year in ['2018']]\n",
    "newcases = assemble_cases(options, n_sim, max_dwell_ksec, dwell_2_pitch_num, dates)\n",
    "write_cases(newcases, 'cases_2018_182_274.csv')\n"
   ]
  },
  {
   "cell_type": "code",
   "execution_count": 7,
   "metadata": {
    "collapsed": false
   },
   "outputs": [
    {
     "data": {
      "text/plain": [
       "396"
      ]
     },
     "execution_count": 7,
     "metadata": {},
     "output_type": "execute_result"
    }
   ],
   "source": [
    "len(newcases)"
   ]
  },
  {
   "cell_type": "markdown",
   "metadata": {},
   "source": [
    "Use the following code (uncommented), either in a notebook or in an iPython text based window, to run each set of cases assembled above."
   ]
  },
  {
   "cell_type": "code",
   "execution_count": null,
   "metadata": {
    "collapsed": false
   },
   "outputs": [],
   "source": [
    "cases = pyger.read_cases('cases_set1.csv')\n",
    "#pyger.run_pyger_cases(cases)"
   ]
  },
  {
   "cell_type": "markdown",
   "metadata": {},
   "source": [
    "Use the following code to print out a custom list of files to break up running a model over several processes."
   ]
  },
  {
   "cell_type": "code",
   "execution_count": 8,
   "metadata": {
    "collapsed": false
   },
   "outputs": [],
   "source": [
    "n_sim = 2000\n",
    "max_dwell_ksec = 700\n",
    "dwell_2_pitch_num = 200\n",
    "\n",
    "dates = [year + ':' + day for day in ['001', '090', '182', '274'] for year in ['2016', ]]\n",
    "options = {'FPTEMP_11':{'units':'C', 'startlim':-119, 'stoplim':-114, 'limstep':5, 'nccd1':[1,4,5,6],\n",
    "                        'nccd2':[1,], 'dh':['ON', 'OFF'], 'model':'acisfp', 'sameccd':False,\n",
    "                        'cool_pitch_min':45, 'cool_pitch_max':169}}\n",
    "newcases = assemble_cases(options, n_sim, max_dwell_ksec, dwell_2_pitch_num, dates)\n",
    "options = {'FPTEMP_11':{'units':'C', 'startlim':-119, 'stoplim':-114, 'limstep':5, 'nccd1':[4,5,6],\n",
    "                        'dh':['ON', 'OFF'], 'model':'acisfp', 'sameccd':True}}\n",
    "newcases.extend(assemble_cases(options, n_sim, max_dwell_ksec, dwell_2_pitch_num, dates))\n",
    "casechunks = list(chunks(newcases, 14))\n",
    "for n, cases in enumerate(casechunks):\n",
    "    write_cases(cases, 'cases_acis_2016-{}.csv'.format(n))\n",
    "\n",
    "dates = [year + ':' + day for day in ['001', '090', '182', '274'] for year in ['2017', ]]\n",
    "options = {'FPTEMP_11':{'units':'C', 'startlim':-119, 'stoplim':-114, 'limstep':5, 'nccd1':[1,4,5,6],\n",
    "                        'nccd2':[1,], 'dh':['ON', 'OFF'], 'model':'acisfp', 'sameccd':False,\n",
    "                        'cool_pitch_min':45, 'cool_pitch_max':169}}\n",
    "newcases = assemble_cases(options, n_sim, max_dwell_ksec, dwell_2_pitch_num, dates)\n",
    "options = {'FPTEMP_11':{'units':'C', 'startlim':-119, 'stoplim':-114, 'limstep':5, 'nccd1':[4,5,6],\n",
    "                        'dh':['ON', 'OFF'], 'model':'acisfp', 'sameccd':True}}\n",
    "newcases.extend(assemble_cases(options, n_sim, max_dwell_ksec, dwell_2_pitch_num, dates))\n",
    "casechunks = list(chunks(newcases, 14))\n",
    "for n, cases in enumerate(casechunks):\n",
    "    write_cases(cases, 'cases_acis_2017-{}.csv'.format(n))\n",
    "    \n",
    "dates = [year + ':' + day for day in ['001', '090', '182', '274'] for year in ['2018', ]]\n",
    "options = {'FPTEMP_11':{'units':'C', 'startlim':-119, 'stoplim':-114, 'limstep':5, 'nccd1':[1,4,5,6],\n",
    "                        'nccd2':[1,], 'dh':['ON', 'OFF'], 'model':'acisfp', 'sameccd':False,\n",
    "                        'cool_pitch_min':45, 'cool_pitch_max':169}}\n",
    "newcases = assemble_cases(options, n_sim, max_dwell_ksec, dwell_2_pitch_num, dates)\n",
    "options = {'FPTEMP_11':{'units':'C', 'startlim':-119, 'stoplim':-114, 'limstep':5, 'nccd1':[4,5,6],\n",
    "                        'dh':['ON', 'OFF'], 'model':'acisfp', 'sameccd':True}}\n",
    "newcases.extend(assemble_cases(options, n_sim, max_dwell_ksec, dwell_2_pitch_num, dates))\n",
    "casechunks = list(chunks(newcases, 14))\n",
    "for n, cases in enumerate(casechunks):\n",
    "    write_cases(cases, 'cases_acis_2018-{}.csv'.format(n))"
   ]
  },
  {
   "cell_type": "code",
   "execution_count": null,
   "metadata": {
    "collapsed": false
   },
   "outputs": [],
   "source": [
    "len(newcases)/14."
   ]
  },
  {
   "cell_type": "code",
   "execution_count": null,
   "metadata": {
    "collapsed": false
   },
   "outputs": [],
   "source": [
    "cases[1]"
   ]
  },
  {
   "cell_type": "markdown",
   "metadata": {},
   "source": [
    "-----------"
   ]
  },
  {
   "cell_type": "markdown",
   "metadata": {},
   "source": [
    "# ACA Model"
   ]
  },
  {
   "cell_type": "code",
   "execution_count": null,
   "metadata": {
    "collapsed": false
   },
   "outputs": [],
   "source": [
    "n_sim = 2000\n",
    "max_dwell_ksec = 700\n",
    "dwell_2_pitch_num = 200\n",
    "dates = [year + ':' + day for day in ['001', '090', '182', '274'] for year in ['2016', '2017', '2018']]\n",
    "\n",
    "\n",
    "options = {'AACCCDPT':{'units':'C', 'startlim':-15, 'stoplim':-9, 'limstep':1, \n",
    "                       'nccd1':[4,], 'dh':['ON'], 'model':'aca', 'sameccd': True}}\n",
    "\n",
    "newcases = assemble_cases(options, n_sim, max_dwell_ksec, dwell_2_pitch_num, dates)\n",
    "len(newcases)"
   ]
  },
  {
   "cell_type": "code",
   "execution_count": null,
   "metadata": {
    "collapsed": true
   },
   "outputs": [],
   "source": [
    "casechunks = list(chunks(newcases, 7))\n",
    "for n, cases in enumerate(casechunks):\n",
    "    write_cases(cases, 'cases_aca_{}.csv'.format(n))"
   ]
  },
  {
   "cell_type": "markdown",
   "metadata": {
    "collapsed": false
   },
   "source": [
    "# DEA Model"
   ]
  },
  {
   "cell_type": "code",
   "execution_count": null,
   "metadata": {
    "collapsed": false
   },
   "outputs": [],
   "source": [
    "n_sim = 2000\n",
    "max_dwell_ksec = 700\n",
    "dwell_2_pitch_num = 200\n",
    "dates = [year + ':' + day for day in ['001', '090', '182', '274'] for year in ['2016', '2017', '2018']]\n",
    "\n",
    "options = {'1DEAMZT':{'units':'C', 'startlim':35, 'stoplim':38.0, 'limstep':0.5, 'nccd1':[1, 3], \n",
    "                      'dh':['ON', 'OFF'], 'model':'dea', 'sameccd': True}}\n",
    "newcases = assemble_cases(options, n_sim, max_dwell_ksec, dwell_2_pitch_num, dates)\n",
    "len(newcases)"
   ]
  },
  {
   "cell_type": "code",
   "execution_count": null,
   "metadata": {
    "collapsed": false
   },
   "outputs": [],
   "source": [
    "factors(len(newcases))"
   ]
  },
  {
   "cell_type": "code",
   "execution_count": null,
   "metadata": {
    "collapsed": false
   },
   "outputs": [],
   "source": [
    "336/28."
   ]
  },
  {
   "cell_type": "code",
   "execution_count": null,
   "metadata": {
    "collapsed": true
   },
   "outputs": [],
   "source": [
    "casechunks = list(chunks(newcases, 28))\n",
    "for n, cases in enumerate(casechunks):\n",
    "    write_cases(cases, 'cases_dea_{}.csv'.format(n))"
   ]
  },
  {
   "cell_type": "markdown",
   "metadata": {
    "collapsed": true
   },
   "source": [
    "# DPA Model"
   ]
  },
  {
   "cell_type": "code",
   "execution_count": null,
   "metadata": {
    "collapsed": false
   },
   "outputs": [],
   "source": [
    "n_sim = 2000\n",
    "max_dwell_ksec = 700\n",
    "dwell_2_pitch_num = 200\n",
    "dates = [year + ':' + day for day in ['001', '090', '182', '274'] for year in ['2016', '2017', '2018']]\n",
    "\n",
    "options = {'1DPAMZT':{'units':'C', 'startlim':35, 'stoplim':38.0, 'limstep':0.5, 'nccd1':[1, 3], \n",
    "                      'dh':['ON', 'OFF'], 'model':'dpa', 'sameccd': True}}\n",
    "newcases = assemble_cases(options, n_sim, max_dwell_ksec, dwell_2_pitch_num, dates)\n",
    "len(newcases)"
   ]
  },
  {
   "cell_type": "code",
   "execution_count": null,
   "metadata": {
    "collapsed": true
   },
   "outputs": [],
   "source": [
    "casechunks = list(chunks(newcases, 28))\n",
    "for n, cases in enumerate(casechunks):\n",
    "    write_cases(cases, 'cases_dpa_{}.csv'.format(n))"
   ]
  },
  {
   "cell_type": "markdown",
   "metadata": {
    "collapsed": true
   },
   "source": [
    "# Central Cylinder Model"
   ]
  },
  {
   "cell_type": "code",
   "execution_count": 13,
   "metadata": {
    "collapsed": false
   },
   "outputs": [
    {
     "data": {
      "text/plain": [
       "156"
      ]
     },
     "execution_count": 13,
     "metadata": {},
     "output_type": "execute_result"
    }
   ],
   "source": [
    "n_sim = 2000\n",
    "max_dwell_ksec = 700\n",
    "dwell_2_pitch_num = 200\n",
    "dates = [year + ':' + day for day in ['001', '090', '182', '274'] for year in ['2017', '2018', '2019']]\n",
    "\n",
    "options = {'TCYLAFT6':{'units':'F', 'startlim':108, 'stoplim':120, 'limstep':1, 'nccd1':[4,], 'dh':['OFF'],\n",
    "                       'model':'tcylaft6', 'sameccd': True, 'roll':0.0}}\n",
    "newcases = assemble_cases(options, n_sim, max_dwell_ksec, dwell_2_pitch_num, dates)\n",
    "len(newcases)"
   ]
  },
  {
   "cell_type": "code",
   "execution_count": 14,
   "metadata": {
    "collapsed": false
   },
   "outputs": [
    {
     "data": {
      "text/plain": [
       "13.0"
      ]
     },
     "execution_count": 14,
     "metadata": {},
     "output_type": "execute_result"
    }
   ],
   "source": [
    "156/12."
   ]
  },
  {
   "cell_type": "code",
   "execution_count": 15,
   "metadata": {
    "collapsed": true
   },
   "outputs": [],
   "source": [
    "casechunks = list(chunks(newcases, 12))\n",
    "for n, cases in enumerate(casechunks):\n",
    "    write_cases(cases, 'cases_cc_{}.csv'.format(n))"
   ]
  },
  {
   "cell_type": "code",
   "execution_count": null,
   "metadata": {
    "collapsed": true
   },
   "outputs": [],
   "source": []
  }
 ],
 "metadata": {
  "anaconda-cloud": {},
  "kernelspec": {
   "display_name": "Python [skatest]",
   "language": "python",
   "name": "Python [skatest]"
  },
  "language_info": {
   "codemirror_mode": {
    "name": "ipython",
    "version": 2
   },
   "file_extension": ".py",
   "mimetype": "text/x-python",
   "name": "python",
   "nbconvert_exporter": "python",
   "pygments_lexer": "ipython2",
   "version": "2.7.12"
  }
 },
 "nbformat": 4,
 "nbformat_minor": 0
}
