{
 "cells": [
  {
   "cell_type": "code",
   "execution_count": 1,
   "metadata": {
    "collapsed": false
   },
   "outputs": [],
   "source": [
    "import pyger\n",
    "import numpy as np\n",
    "import matplotlib.pyplot as plt\n",
    "from Chandra.Time import DateTime\n",
    "import cPickle as pickle"
   ]
  },
  {
   "cell_type": "markdown",
   "metadata": {},
   "source": [
    "Note that the DH on and off options are both used automatically"
   ]
  },
  {
   "cell_type": "code",
   "execution_count": 4,
   "metadata": {
    "collapsed": false
   },
   "outputs": [],
   "source": [
    "def assemble_cases(options, n_sim, max_dwell_ksec, dwell_2_pitch_num, dates):\n",
    "\n",
    "    template = {'max_1dpamzt': '999',\n",
    "                'max_1pdeaat': '999',\n",
    "                'max_aacccdpt': '999',\n",
    "                'max_pftank2t': '999',\n",
    "                'max_tcylaft6': '999',\n",
    "                'max_tephin': '999',\n",
    "                'max_4rt700t': '999',\n",
    "                'max_fptemp_11': '999'}\n",
    "\n",
    "    newcases = []\n",
    "    for date in dates:\n",
    "        for msid in options.keys():\n",
    "            lims = np.arange(options[msid]['startlim'], options[msid]['stoplim'] + options[msid]['limstep'], options[msid]['limstep'])\n",
    "            for lim in lims:\n",
    "                nccds = np.arange(options[msid]['startnccd'], options[msid]['stopnccd']+1, 1)\n",
    "                for nccd in nccds:\n",
    "                    for dh in options[msid]['dh']:\n",
    "                        s = template.copy()\n",
    "                        s['msid'] = msid\n",
    "                        s['constraint_model'] = options[msid.upper()]['model']\n",
    "                        s['filename'] = 'pyger_single_msid_{}{}_{}_{}_{}ccd_DH-{}'.format(date[:4], date[-3:], msid.lower(), lim, nccd, dh)\n",
    "                        s['max_' + msid.lower()] = str(lim)\n",
    "                        s['title'] = msid.upper() + ': ' + str(lim) + options[msid]['units'] + ' ' + date\n",
    "                        s['n_ccd_dwell1'] = str(nccd)\n",
    "                        s['n_ccd_dwell2'] = str(nccd)\n",
    "                        s['dh_heater'] = str(dh == 'ON')\n",
    "                        s['start'] = date\n",
    "                        s['n_sim'] = str(n_sim)\n",
    "                        s['max_dwell_ksec'] = max_dwell_ksec\n",
    "                        s['dwell_2_pitch_num'] = str(dwell_2_pitch_num)\n",
    "                        newcases.append(s)\n",
    "\n",
    "    return newcases\n",
    "\n",
    "def write_cases(newcases, filename):\n",
    "    fid = open(filename, 'w')\n",
    "    \n",
    "    header = newcases[0].keys()\n",
    "    \n",
    "    # Write Header\n",
    "    for name in header[:-1]:\n",
    "        fid.write('{},'.format(name))\n",
    "    fid.write('{}\\n'.format(header[-1]))\n",
    "\n",
    "    # Write Cases\n",
    "    for case in newcases:\n",
    "        for name in header[:-1]:\n",
    "            fid.write('{},'.format(case[name]))\n",
    "        fid.write('{}\\n'.format(case[header[-1]]))\n",
    "    \n",
    "    fid.close()"
   ]
  },
  {
   "cell_type": "code",
   "execution_count": 8,
   "metadata": {
    "collapsed": false
   },
   "outputs": [],
   "source": [
    "#header = ('title', 'filename', 'start', 'max_tephin', 'max_tcylaft6', 'max_1pdeaat', \n",
    "#              'max_1dpamzt', 'max_pftank2t', 'max_aacccdpt', 'n_ccd_dwell1', 'n_ccd_dwell2', \n",
    "#              'n_sim', 'dwell_2_pitch_num', 'max_dwell_ksec', 'constraint_model', 'msid')\n",
    "    \n",
    "options = {'TCYLAFT6':{'units':'F', 'startlim':108, 'stoplim':120, 'limstep':1, 'startnccd':4, 'stopnccd':4, 'dh':['ON'], 'model':'tcylaft6'},\n",
    "           'PFTANK2T':{'units':'F', 'startlim':93, 'stoplim':97, 'limstep':1, 'startnccd':4, 'stopnccd':4, 'dh':['ON'], 'model':'tank'},\n",
    "           'AACCCDPT':{'units':'C', 'startlim':-15, 'stoplim':-9, 'limstep':1, 'startnccd':4, 'stopnccd':4, 'dh':['ON'], 'model':'aca'},\n",
    "           '4RT700T':{'units':'F', 'startlim':78, 'stoplim':88, 'limstep':1, 'startnccd':4, 'stopnccd':4, 'dh':['ON'], 'model':'fwdblkhd'},\n",
    "           '1PDEAAT':{'units':'C', 'startlim':52.5, 'stoplim':53, 'limstep':0.5, 'startnccd':4, 'stopnccd':6, 'dh':['ON', 'OFF'], 'model':'psmc'},\n",
    "           '1DPAMZT':{'units':'C', 'startlim':35, 'stoplim':38, 'limstep':0.5, 'startnccd':4, 'stopnccd':6, 'dh':['ON', 'OFF'], 'model':'dpa'},\n",
    "           'FPTEMP_11':{'units':'C', 'startlim':-119, 'stoplim':-115, 'limstep':0.5, 'startnccd':4, 'stopnccd':6, 'dh':['ON', 'OFF'], 'model':'acisfp'}}\n",
    "\n",
    "n_sim = 2000\n",
    "max_dwell_ksec = 700\n",
    "dwell_2_pitch_num = 200\n"
   ]
  },
  {
   "cell_type": "code",
   "execution_count": 9,
   "metadata": {
    "collapsed": false
   },
   "outputs": [],
   "source": [
    "dates = [year + ':' + day for day in ['001', '090'] for year in ['2015']]\n",
    "newcases = assemble_cases(options, n_sim, max_dwell_ksec, dwell_2_pitch_num, dates)\n",
    "write_cases(newcases, 'cases_2015_001_090.csv')\n",
    "   \n",
    "dates = [year + ':' + day for day in ['182', '274'] for year in ['2015']]\n",
    "newcases = assemble_cases(options, n_sim, max_dwell_ksec, dwell_2_pitch_num, dates)\n",
    "write_cases(newcases, 'cases_2015_182_274.csv')\n",
    "\n",
    "dates = [year + ':' + day for day in ['001', '090'] for year in ['2016']]\n",
    "newcases = assemble_cases(options, n_sim, max_dwell_ksec, dwell_2_pitch_num, dates)\n",
    "write_cases(newcases, 'cases_2016_001_090.csv')\n",
    "   \n",
    "dates = [year + ':' + day for day in ['182', '274'] for year in ['2016']]\n",
    "newcases = assemble_cases(options, n_sim, max_dwell_ksec, dwell_2_pitch_num, dates)\n",
    "write_cases(newcases, 'cases_2016_182_274.csv')\n",
    "\n",
    "dates = [year + ':' + day for day in ['001', '090'] for year in ['2017']]\n",
    "newcases = assemble_cases(options, n_sim, max_dwell_ksec, dwell_2_pitch_num, dates)\n",
    "write_cases(newcases, 'cases_2017_001_090.csv')\n",
    "   \n",
    "dates = [year + ':' + day for day in ['182', '274'] for year in ['2017']]\n",
    "newcases = assemble_cases(options, n_sim, max_dwell_ksec, dwell_2_pitch_num, dates)\n",
    "write_cases(newcases, 'cases_2017_182_274.csv')\n",
    "\n",
    "dates = [year + ':' + day for day in ['001', '090'] for year in ['2018']]\n",
    "newcases = assemble_cases(options, n_sim, max_dwell_ksec, dwell_2_pitch_num, dates)\n",
    "write_cases(newcases, 'cases_2018_001_090.csv')\n",
    "   \n",
    "dates = [year + ':' + day for day in ['182', '274'] for year in ['2018']]\n",
    "newcases = assemble_cases(options, n_sim, max_dwell_ksec, dwell_2_pitch_num, dates)\n",
    "write_cases(newcases, 'cases_2018_182_274.csv')\n"
   ]
  },
  {
   "cell_type": "markdown",
   "metadata": {},
   "source": [
    "Use the following code (uncommented), either in a notebook or in an iPython text based window, to run each set of cases assembled above."
   ]
  },
  {
   "cell_type": "code",
   "execution_count": 29,
   "metadata": {
    "collapsed": false
   },
   "outputs": [],
   "source": [
    "cases = pyger.read_cases('cases_set1.csv')\n",
    "#pyger.run_pyger_cases(cases)"
   ]
  },
  {
   "cell_type": "code",
   "execution_count": 5,
   "metadata": {
    "collapsed": false
   },
   "outputs": [],
   "source": [
    "n_sim = 2000\n",
    "max_dwell_ksec = 700\n",
    "dwell_2_pitch_num = 200\n",
    "options = {'FPTEMP_11':{'units':'C', 'startlim':-119, 'stoplim':-115, 'limstep':0.5, 'startnccd':4, 'stopnccd':6, 'dh':['ON', 'OFF'], 'model':'acisfp'}}\n",
    "dates = [year + ':' + day for day in ['001', '090', '182', '274'] for year in ['2016', '2017']]\n",
    "newcases = assemble_cases(options, n_sim, max_dwell_ksec, dwell_2_pitch_num, dates)\n",
    "write_cases(newcases, 'cases_acisfp.csv')"
   ]
  },
  {
   "cell_type": "code",
   "execution_count": null,
   "metadata": {
    "collapsed": true
   },
   "outputs": [],
   "source": []
  }
 ],
 "metadata": {
  "kernelspec": {
   "display_name": "Python 2",
   "language": "python",
   "name": "python2"
  },
  "language_info": {
   "codemirror_mode": {
    "name": "ipython",
    "version": 2
   },
   "file_extension": ".py",
   "mimetype": "text/x-python",
   "name": "python",
   "nbconvert_exporter": "python",
   "pygments_lexer": "ipython2",
   "version": "2.7.11"
  }
 },
 "nbformat": 4,
 "nbformat_minor": 0
}
