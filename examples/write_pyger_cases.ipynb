{
 "metadata": {
  "name": "write_pyger_cases"
 },
 "nbformat": 3,
 "nbformat_minor": 0,
 "worksheets": [
  {
   "cells": [
    {
     "cell_type": "code",
     "collapsed": false,
     "input": [
      "import pyger\n",
      "import numpy as np\n",
      "import matplotlib.pyplot as plt\n",
      "from Chandra.Time import DateTime\n",
      "import cPickle as pickle"
     ],
     "language": "python",
     "metadata": {},
     "outputs": [],
     "prompt_number": 1
    },
    {
     "cell_type": "code",
     "collapsed": false,
     "input": [
      "def assemble_cases(options, n_sim, max_dwell_ksec, dwell_2_pitch_num, dates):\n",
      "\n",
      "    template = {'max_1dpamzt': '999',\n",
      "                'max_1pdeaat': '999',\n",
      "                'max_aacccdpt': '999',\n",
      "                'max_pftank2t': '999',\n",
      "                'max_tcylaft6': '999',\n",
      "                'max_tephin': '999'}\n",
      "\n",
      "    newcases = []\n",
      "    for date in dates:\n",
      "        for msid in options.keys():\n",
      "            lims = np.arange(options[msid]['startlim'], options[msid]['stoplim'] + options[msid]['limstep'], options[msid]['limstep'])\n",
      "            for lim in lims:\n",
      "                nccds = np.arange(options[msid]['startnccd'], options[msid]['stopnccd']+1, 1)\n",
      "                for nccd in nccds:\n",
      "                    s = template.copy()\n",
      "                    s['msid'] = msid\n",
      "                    s['constraint_model'] = options[msid.upper()]['model']\n",
      "                    s['filename'] = 'pyger_single_msid_{}{}_{}_{}'.format(date[:4], date[-3:], msid.lower(), lim)\n",
      "                    s['max_' + msid.lower()] = str(lim)\n",
      "                    s['title'] = msid.upper() + ': ' + str(lim) + options[msid]['units'] + ' ' + date\n",
      "                    s['n_ccd_dwell1'] = str(nccd)\n",
      "                    s['n_ccd_dwell2'] = str(nccd)\n",
      "                    s['start'] = date\n",
      "                    s['n_sim'] = str(n_sim)\n",
      "                    s['max_dwell_ksec'] = max_dwell_ksec\n",
      "                    s['dwell_2_pitch_num'] = str(dwell_2_pitch_num)\n",
      "                    newcases.append(s)\n",
      "\n",
      "    return newcases\n",
      "\n",
      "def write_cases(newcases, filename):\n",
      "    fid = open(filename, 'w')\n",
      "    \n",
      "    header = newcases[0].keys()\n",
      "    \n",
      "    # Write Header\n",
      "    for name in header[:-1]:\n",
      "        fid.write('{},'.format(name))\n",
      "    fid.write('{}\\n'.format(header[-1]))\n",
      "\n",
      "    # Write Cases\n",
      "    for case in newcases:\n",
      "        for name in header[:-1]:\n",
      "            fid.write('{},'.format(case[name]))\n",
      "        fid.write('{}\\n'.format(case[header[-1]]))\n",
      "    \n",
      "    fid.close()"
     ],
     "language": "python",
     "metadata": {},
     "outputs": [],
     "prompt_number": 2
    },
    {
     "cell_type": "code",
     "collapsed": false,
     "input": [
      "#header = ('title', 'filename', 'start', 'max_tephin', 'max_tcylaft6', 'max_1pdeaat', \n",
      "#              'max_1dpamzt', 'max_pftank2t', 'max_aacccdpt', 'n_ccd_dwell1', 'n_ccd_dwell2', \n",
      "#              'n_sim', 'dwell_2_pitch_num', 'max_dwell_ksec', 'constraint_model', 'msid')\n",
      "    \n",
      "options = {'TEPHIN':{'units':'F', 'startlim':154, 'stoplim':161, 'limstep':1, 'startnccd':4, 'stopnccd':4, 'model':'minus_yz'},\n",
      "           'TCYLAFT6':{'units':'F', 'startlim':105, 'stoplim':111, 'limstep':1, 'startnccd':4, 'stopnccd':4, 'model':'minus_yz'},\n",
      "           'PFTANK2T':{'units':'F', 'startlim':93, 'stoplim':97, 'limstep':1, 'startnccd':4, 'stopnccd':4, 'model':'tank'},\n",
      "           'AACCCDPT':{'units':'C', 'startlim':-15, 'stoplim':-12, 'limstep':1, 'startnccd':4, 'stopnccd':4, 'model':'aca'},\n",
      "           '1PDEAAT':{'units':'C', 'startlim':52.5, 'stoplim':53, 'limstep':0.5, 'startnccd':4, 'stopnccd':6, 'model':'psmc'},\n",
      "           '1DPAMZT':{'units':'C', 'startlim':33, 'stoplim':35, 'limstep':0.5, 'startnccd':4, 'stopnccd':6, 'model':'psmc'}}\n",
      "\n",
      "n_sim = 2000\n",
      "max_dwell_ksec = 700\n",
      "dwell_2_pitch_num = 200\n"
     ],
     "language": "python",
     "metadata": {},
     "outputs": [],
     "prompt_number": 3
    },
    {
     "cell_type": "code",
     "collapsed": false,
     "input": [
      "dates = [year + ':' + day for day in ['001', '090', '182', '274'] for year in ['2014']]\n",
      "newcases = assemble_cases(options, n_sim, max_dwell_ksec, dwell_2_pitch_num, dates)\n",
      "write_cases(newcases, 'cases_set1.csv')\n",
      "          \n",
      "dates = [year + ':' + day for day in ['001', '090', '182', '274'] for year in ['2015']]\n",
      "newcases = assemble_cases(options, n_sim, max_dwell_ksec, dwell_2_pitch_num, dates)\n",
      "write_cases(newcases, 'cases_set2.csv')        \n",
      "\n",
      "dates = [year + ':' + day for day in ['001', '090', '182', '274'] for year in ['2016']]\n",
      "newcases = assemble_cases(options, n_sim, max_dwell_ksec, dwell_2_pitch_num, dates)\n",
      "write_cases(newcases, 'cases_set3.csv')\n"
     ],
     "language": "python",
     "metadata": {},
     "outputs": [],
     "prompt_number": 28
    },
    {
     "cell_type": "markdown",
     "metadata": {},
     "source": [
      "Use the following code (uncommented), either in a notebook or in an iPython text based window, to run each set of cases assembled above."
     ]
    },
    {
     "cell_type": "code",
     "collapsed": false,
     "input": [
      "cases = pyger.read_cases('cases_set1.csv')\n",
      "#pyger.run_pyger_cases(cases)"
     ],
     "language": "python",
     "metadata": {},
     "outputs": [],
     "prompt_number": 29
    },
    {
     "cell_type": "code",
     "collapsed": false,
     "input": [],
     "language": "python",
     "metadata": {},
     "outputs": []
    }
   ],
   "metadata": {}
  }
 ]
}